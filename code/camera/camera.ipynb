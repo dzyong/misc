{
 "cells": [
  {
   "cell_type": "code",
   "execution_count": null,
   "id": "22c36275",
   "metadata": {},
   "outputs": [],
   "source": [
    "import numpy as np\n",
    "import cv2\n",
    "import os\n",
    "from matplotlib import pyplot as plt\n",
    "%matplotlib inline\n",
    "\n",
    "def show_yuv(filename, width, height):\n",
    "    img_data = np.fromfile(filename, dtype=np.uint8)\n",
    "    img_data = img_data.reshape((height,width,2))\n",
    "    rgb_img = cv2.cvtColor(img_data, cv2.COLOR_YUV2RGB_YUYV)\n",
    "    plt.imshow(rgb_img)\n",
    "show_yuv(\"E:\\\\bin\\\\msys64\\\\home\\\\dangz\\\\test\\\\pic\\\\1.yuv\",640,480)"
   ]
  }
 ],
 "metadata": {
  "kernelspec": {
   "display_name": "Python 3 (ipykernel)",
   "language": "python",
   "name": "python3"
  },
  "language_info": {
   "codemirror_mode": {
    "name": "ipython",
    "version": 3
   },
   "file_extension": ".py",
   "mimetype": "text/x-python",
   "name": "python",
   "nbconvert_exporter": "python",
   "pygments_lexer": "ipython3",
   "version": "3.8.7"
  }
 },
 "nbformat": 4,
 "nbformat_minor": 5
}
